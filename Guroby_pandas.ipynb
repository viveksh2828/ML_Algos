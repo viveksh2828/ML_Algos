{
 "cells": [
  {
   "cell_type": "code",
   "execution_count": 1,
   "id": "1ebc97a8",
   "metadata": {},
   "outputs": [],
   "source": [
    "import pandas as pd\n",
    "import gurobipy as gp\n",
    "from gurobipy import GRB\n",
    "import gurobipy_pandas as gppd"
   ]
  },
  {
   "cell_type": "code",
   "execution_count": 2,
   "id": "6a7eb16e",
   "metadata": {},
   "outputs": [],
   "source": [
    "gppd.set_interactive()"
   ]
  },
  {
   "cell_type": "code",
   "execution_count": 3,
   "id": "ba78c88e",
   "metadata": {},
   "outputs": [
    {
     "name": "stdout",
     "output_type": "stream",
     "text": [
      "Restricted license - for non-production use only - expires 2025-11-24\n"
     ]
    }
   ],
   "source": [
    "model = gp.Model()"
   ]
  },
  {
   "cell_type": "code",
   "execution_count": 4,
   "id": "51c780ea",
   "metadata": {},
   "outputs": [],
   "source": [
    "data = pd.DataFrame(\n",
    "    {\n",
    "        \"i\": [0, 0, 1, 2, 2],\n",
    "        \"j\": [1, 2, 0, 0, 1],\n",
    "        \"u\": [0.3, 1.2, 0.7, 0.9, 1.2],\n",
    "        \"c\": [1.3, 1.7, 1.4, 1.1, 0.9],\n",
    "    }\n",
    ").set_index([\"i\", \"j\"])"
   ]
  },
  {
   "cell_type": "code",
   "execution_count": 6,
   "id": "b8bf6a46",
   "metadata": {},
   "outputs": [
    {
     "data": {
      "text/html": [
       "<div>\n",
       "<style scoped>\n",
       "    .dataframe tbody tr th:only-of-type {\n",
       "        vertical-align: middle;\n",
       "    }\n",
       "\n",
       "    .dataframe tbody tr th {\n",
       "        vertical-align: top;\n",
       "    }\n",
       "\n",
       "    .dataframe thead th {\n",
       "        text-align: right;\n",
       "    }\n",
       "</style>\n",
       "<table border=\"1\" class=\"dataframe\">\n",
       "  <thead>\n",
       "    <tr style=\"text-align: right;\">\n",
       "      <th></th>\n",
       "      <th></th>\n",
       "      <th>u</th>\n",
       "      <th>c</th>\n",
       "    </tr>\n",
       "    <tr>\n",
       "      <th>i</th>\n",
       "      <th>j</th>\n",
       "      <th></th>\n",
       "      <th></th>\n",
       "    </tr>\n",
       "  </thead>\n",
       "  <tbody>\n",
       "    <tr>\n",
       "      <th rowspan=\"2\" valign=\"top\">0</th>\n",
       "      <th>1</th>\n",
       "      <td>0.3</td>\n",
       "      <td>1.3</td>\n",
       "    </tr>\n",
       "    <tr>\n",
       "      <th>2</th>\n",
       "      <td>1.2</td>\n",
       "      <td>1.7</td>\n",
       "    </tr>\n",
       "    <tr>\n",
       "      <th>1</th>\n",
       "      <th>0</th>\n",
       "      <td>0.7</td>\n",
       "      <td>1.4</td>\n",
       "    </tr>\n",
       "    <tr>\n",
       "      <th rowspan=\"2\" valign=\"top\">2</th>\n",
       "      <th>0</th>\n",
       "      <td>0.9</td>\n",
       "      <td>1.1</td>\n",
       "    </tr>\n",
       "    <tr>\n",
       "      <th>1</th>\n",
       "      <td>1.2</td>\n",
       "      <td>0.9</td>\n",
       "    </tr>\n",
       "  </tbody>\n",
       "</table>\n",
       "</div>"
      ],
      "text/plain": [
       "       u    c\n",
       "i j          \n",
       "0 1  0.3  1.3\n",
       "  2  1.2  1.7\n",
       "1 0  0.7  1.4\n",
       "2 0  0.9  1.1\n",
       "  1  1.2  0.9"
      ]
     },
     "execution_count": 6,
     "metadata": {},
     "output_type": "execute_result"
    }
   ],
   "source": [
    "data "
   ]
  },
  {
   "cell_type": "code",
   "execution_count": 7,
   "id": "a04bef5c",
   "metadata": {},
   "outputs": [],
   "source": [
    "x = gppd.add_vars(model, data, name=\"x\", ub=\"u\")"
   ]
  },
  {
   "cell_type": "code",
   "execution_count": 8,
   "id": "fde7ff2c",
   "metadata": {},
   "outputs": [
    {
     "data": {
      "text/plain": [
       "i  j\n",
       "0  1    <gurobi.Var x[0,1]>\n",
       "   2    <gurobi.Var x[0,2]>\n",
       "1  0    <gurobi.Var x[1,0]>\n",
       "2  0    <gurobi.Var x[2,0]>\n",
       "   1    <gurobi.Var x[2,1]>\n",
       "Name: x, dtype: object"
      ]
     },
     "execution_count": 8,
     "metadata": {},
     "output_type": "execute_result"
    }
   ],
   "source": [
    "x"
   ]
  },
  {
   "cell_type": "code",
   "execution_count": 11,
   "id": "eb54a83e",
   "metadata": {},
   "outputs": [],
   "source": [
    "variables = (\n",
    "    data.gppd.add_vars(model, name=\"y\")\n",
    "    .gppd.add_vars(model, name=\"z\")\n",
    ")"
   ]
  },
  {
   "cell_type": "code",
   "execution_count": 12,
   "id": "01132ead",
   "metadata": {},
   "outputs": [
    {
     "data": {
      "text/html": [
       "<div>\n",
       "<style scoped>\n",
       "    .dataframe tbody tr th:only-of-type {\n",
       "        vertical-align: middle;\n",
       "    }\n",
       "\n",
       "    .dataframe tbody tr th {\n",
       "        vertical-align: top;\n",
       "    }\n",
       "\n",
       "    .dataframe thead th {\n",
       "        text-align: right;\n",
       "    }\n",
       "</style>\n",
       "<table border=\"1\" class=\"dataframe\">\n",
       "  <thead>\n",
       "    <tr style=\"text-align: right;\">\n",
       "      <th></th>\n",
       "      <th></th>\n",
       "      <th>u</th>\n",
       "      <th>c</th>\n",
       "      <th>y</th>\n",
       "      <th>z</th>\n",
       "    </tr>\n",
       "    <tr>\n",
       "      <th>i</th>\n",
       "      <th>j</th>\n",
       "      <th></th>\n",
       "      <th></th>\n",
       "      <th></th>\n",
       "      <th></th>\n",
       "    </tr>\n",
       "  </thead>\n",
       "  <tbody>\n",
       "    <tr>\n",
       "      <th rowspan=\"2\" valign=\"top\">0</th>\n",
       "      <th>1</th>\n",
       "      <td>0.3</td>\n",
       "      <td>1.3</td>\n",
       "      <td>&lt;gurobi.Var y[0,1]&gt;</td>\n",
       "      <td>&lt;gurobi.Var z[0,1]&gt;</td>\n",
       "    </tr>\n",
       "    <tr>\n",
       "      <th>2</th>\n",
       "      <td>1.2</td>\n",
       "      <td>1.7</td>\n",
       "      <td>&lt;gurobi.Var y[0,2]&gt;</td>\n",
       "      <td>&lt;gurobi.Var z[0,2]&gt;</td>\n",
       "    </tr>\n",
       "    <tr>\n",
       "      <th>1</th>\n",
       "      <th>0</th>\n",
       "      <td>0.7</td>\n",
       "      <td>1.4</td>\n",
       "      <td>&lt;gurobi.Var y[1,0]&gt;</td>\n",
       "      <td>&lt;gurobi.Var z[1,0]&gt;</td>\n",
       "    </tr>\n",
       "    <tr>\n",
       "      <th rowspan=\"2\" valign=\"top\">2</th>\n",
       "      <th>0</th>\n",
       "      <td>0.9</td>\n",
       "      <td>1.1</td>\n",
       "      <td>&lt;gurobi.Var y[2,0]&gt;</td>\n",
       "      <td>&lt;gurobi.Var z[2,0]&gt;</td>\n",
       "    </tr>\n",
       "    <tr>\n",
       "      <th>1</th>\n",
       "      <td>1.2</td>\n",
       "      <td>0.9</td>\n",
       "      <td>&lt;gurobi.Var y[2,1]&gt;</td>\n",
       "      <td>&lt;gurobi.Var z[2,1]&gt;</td>\n",
       "    </tr>\n",
       "  </tbody>\n",
       "</table>\n",
       "</div>"
      ],
      "text/plain": [
       "       u    c                    y                    z\n",
       "i j                                                    \n",
       "0 1  0.3  1.3  <gurobi.Var y[0,1]>  <gurobi.Var z[0,1]>\n",
       "  2  1.2  1.7  <gurobi.Var y[0,2]>  <gurobi.Var z[0,2]>\n",
       "1 0  0.7  1.4  <gurobi.Var y[1,0]>  <gurobi.Var z[1,0]>\n",
       "2 0  0.9  1.1  <gurobi.Var y[2,0]>  <gurobi.Var z[2,0]>\n",
       "  1  1.2  0.9  <gurobi.Var y[2,1]>  <gurobi.Var z[2,1]>"
      ]
     },
     "execution_count": 12,
     "metadata": {},
     "output_type": "execute_result"
    }
   ],
   "source": [
    "variables"
   ]
  },
  {
   "cell_type": "code",
   "execution_count": 13,
   "id": "b76e2584",
   "metadata": {},
   "outputs": [
    {
     "data": {
      "text/plain": [
       "i  j\n",
       "0  1    y[0,1] + z[0,1]\n",
       "   2    y[0,2] + z[0,2]\n",
       "1  0    y[1,0] + z[1,0]\n",
       "2  0    y[2,0] + z[2,0]\n",
       "   1    y[2,1] + z[2,1]\n",
       "dtype: object"
      ]
     },
     "execution_count": 13,
     "metadata": {},
     "output_type": "execute_result"
    }
   ],
   "source": [
    "variables[\"y\"] + variables[\"z\"]"
   ]
  },
  {
   "cell_type": "code",
   "execution_count": 14,
   "id": "1165603e",
   "metadata": {},
   "outputs": [
    {
     "data": {
      "text/plain": [
       "0    <gurobi.Constr c1[0]>\n",
       "1    <gurobi.Constr c1[1]>\n",
       "2    <gurobi.Constr c1[2]>\n",
       "Name: c1, dtype: object"
      ]
     },
     "execution_count": 14,
     "metadata": {},
     "output_type": "execute_result"
    }
   ],
   "source": [
    "gppd.add_constrs(  \n",
    "    model,\n",
    "    variables.groupby(\"j\")[\"y\"].sum(),\n",
    "    GRB.LESS_EQUAL,\n",
    "    variables.groupby(\"i\")[\"y\"].sum(),\n",
    "    name=\"c1\",\n",
    ")"
   ]
  },
  {
   "cell_type": "code",
   "execution_count": 16,
   "id": "223ba53e",
   "metadata": {},
   "outputs": [
    {
     "data": {
      "text/html": [
       "<div>\n",
       "<style scoped>\n",
       "    .dataframe tbody tr th:only-of-type {\n",
       "        vertical-align: middle;\n",
       "    }\n",
       "\n",
       "    .dataframe tbody tr th {\n",
       "        vertical-align: top;\n",
       "    }\n",
       "\n",
       "    .dataframe thead th {\n",
       "        text-align: right;\n",
       "    }\n",
       "</style>\n",
       "<table border=\"1\" class=\"dataframe\">\n",
       "  <thead>\n",
       "    <tr style=\"text-align: right;\">\n",
       "      <th></th>\n",
       "      <th></th>\n",
       "      <th>u</th>\n",
       "      <th>c</th>\n",
       "      <th>y</th>\n",
       "      <th>z</th>\n",
       "      <th>c1</th>\n",
       "    </tr>\n",
       "    <tr>\n",
       "      <th>i</th>\n",
       "      <th>j</th>\n",
       "      <th></th>\n",
       "      <th></th>\n",
       "      <th></th>\n",
       "      <th></th>\n",
       "      <th></th>\n",
       "    </tr>\n",
       "  </thead>\n",
       "  <tbody>\n",
       "    <tr>\n",
       "      <th rowspan=\"2\" valign=\"top\">0</th>\n",
       "      <th>1</th>\n",
       "      <td>0.3</td>\n",
       "      <td>1.3</td>\n",
       "      <td>&lt;gurobi.Var y[0,1]&gt;</td>\n",
       "      <td>&lt;gurobi.Var z[0,1]&gt;</td>\n",
       "      <td>&lt;gurobi.Constr c1[0,1]&gt;</td>\n",
       "    </tr>\n",
       "    <tr>\n",
       "      <th>2</th>\n",
       "      <td>1.2</td>\n",
       "      <td>1.7</td>\n",
       "      <td>&lt;gurobi.Var y[0,2]&gt;</td>\n",
       "      <td>&lt;gurobi.Var z[0,2]&gt;</td>\n",
       "      <td>&lt;gurobi.Constr c1[0,2]&gt;</td>\n",
       "    </tr>\n",
       "    <tr>\n",
       "      <th>1</th>\n",
       "      <th>0</th>\n",
       "      <td>0.7</td>\n",
       "      <td>1.4</td>\n",
       "      <td>&lt;gurobi.Var y[1,0]&gt;</td>\n",
       "      <td>&lt;gurobi.Var z[1,0]&gt;</td>\n",
       "      <td>&lt;gurobi.Constr c1[1,0]&gt;</td>\n",
       "    </tr>\n",
       "    <tr>\n",
       "      <th rowspan=\"2\" valign=\"top\">2</th>\n",
       "      <th>0</th>\n",
       "      <td>0.9</td>\n",
       "      <td>1.1</td>\n",
       "      <td>&lt;gurobi.Var y[2,0]&gt;</td>\n",
       "      <td>&lt;gurobi.Var z[2,0]&gt;</td>\n",
       "      <td>&lt;gurobi.Constr c1[2,0]&gt;</td>\n",
       "    </tr>\n",
       "    <tr>\n",
       "      <th>1</th>\n",
       "      <td>1.2</td>\n",
       "      <td>0.9</td>\n",
       "      <td>&lt;gurobi.Var y[2,1]&gt;</td>\n",
       "      <td>&lt;gurobi.Var z[2,1]&gt;</td>\n",
       "      <td>&lt;gurobi.Constr c1[2,1]&gt;</td>\n",
       "    </tr>\n",
       "  </tbody>\n",
       "</table>\n",
       "</div>"
      ],
      "text/plain": [
       "       u    c                    y                    z  \\\n",
       "i j                                                       \n",
       "0 1  0.3  1.3  <gurobi.Var y[0,1]>  <gurobi.Var z[0,1]>   \n",
       "  2  1.2  1.7  <gurobi.Var y[0,2]>  <gurobi.Var z[0,2]>   \n",
       "1 0  0.7  1.4  <gurobi.Var y[1,0]>  <gurobi.Var z[1,0]>   \n",
       "2 0  0.9  1.1  <gurobi.Var y[2,0]>  <gurobi.Var z[2,0]>   \n",
       "  1  1.2  0.9  <gurobi.Var y[2,1]>  <gurobi.Var z[2,1]>   \n",
       "\n",
       "                          c1  \n",
       "i j                           \n",
       "0 1  <gurobi.Constr c1[0,1]>  \n",
       "  2  <gurobi.Constr c1[0,2]>  \n",
       "1 0  <gurobi.Constr c1[1,0]>  \n",
       "2 0  <gurobi.Constr c1[2,0]>  \n",
       "  1  <gurobi.Constr c1[2,1]>  "
      ]
     },
     "execution_count": 16,
     "metadata": {},
     "output_type": "execute_result"
    }
   ],
   "source": [
    "variables.gppd.add_constrs(  \n",
    "    model, \"y\", GRB.LESS_EQUAL, \"z\", name=\"c1\"\n",
    ")"
   ]
  },
  {
   "cell_type": "code",
   "execution_count": 17,
   "id": "7fdb1253",
   "metadata": {},
   "outputs": [
    {
     "data": {
      "text/plain": [
       "i  j\n",
       "0  1    y[0,1] + z[0,1]\n",
       "   2    y[0,2] + z[0,2]\n",
       "1  0    y[1,0] + z[1,0]\n",
       "2  0    y[2,0] + z[2,0]\n",
       "   1    y[2,1] + z[2,1]\n",
       "dtype: object"
      ]
     },
     "execution_count": 17,
     "metadata": {},
     "output_type": "execute_result"
    }
   ],
   "source": [
    "variables[\"y\"] + variables[\"z\"]"
   ]
  },
  {
   "cell_type": "code",
   "execution_count": 18,
   "id": "d76aa681",
   "metadata": {},
   "outputs": [
    {
     "data": {
      "text/plain": [
       "i\n",
       "0        x[0,1] + x[0,2]\n",
       "1    <gurobi.Var x[1,0]>\n",
       "2        x[2,0] + x[2,1]\n",
       "Name: x, dtype: object"
      ]
     },
     "execution_count": 18,
     "metadata": {},
     "output_type": "execute_result"
    }
   ],
   "source": [
    "x.groupby(\"i\").sum()"
   ]
  },
  {
   "cell_type": "code",
   "execution_count": 19,
   "id": "388560d7",
   "metadata": {},
   "outputs": [
    {
     "data": {
      "text/plain": [
       "0    <gurobi.Constr c1[0]>\n",
       "1    <gurobi.Constr c1[1]>\n",
       "2    <gurobi.Constr c1[2]>\n",
       "Name: c1, dtype: object"
      ]
     },
     "execution_count": 19,
     "metadata": {},
     "output_type": "execute_result"
    }
   ],
   "source": [
    "gppd.add_constrs(  \n",
    "    model,\n",
    "    variables.groupby(\"j\")[\"y\"].sum(),\n",
    "    GRB.LESS_EQUAL,\n",
    "    variables.groupby(\"i\")[\"y\"].sum(),\n",
    "    name=\"c1\",\n",
    ")"
   ]
  },
  {
   "cell_type": "code",
   "execution_count": 22,
   "id": "0eb59af8",
   "metadata": {},
   "outputs": [
    {
     "data": {
      "text/html": [
       "<div>\n",
       "<style scoped>\n",
       "    .dataframe tbody tr th:only-of-type {\n",
       "        vertical-align: middle;\n",
       "    }\n",
       "\n",
       "    .dataframe tbody tr th {\n",
       "        vertical-align: top;\n",
       "    }\n",
       "\n",
       "    .dataframe thead th {\n",
       "        text-align: right;\n",
       "    }\n",
       "</style>\n",
       "<table border=\"1\" class=\"dataframe\">\n",
       "  <thead>\n",
       "    <tr style=\"text-align: right;\">\n",
       "      <th></th>\n",
       "      <th></th>\n",
       "      <th>u</th>\n",
       "      <th>c</th>\n",
       "      <th>y</th>\n",
       "      <th>z</th>\n",
       "      <th>c1</th>\n",
       "    </tr>\n",
       "    <tr>\n",
       "      <th>i</th>\n",
       "      <th>j</th>\n",
       "      <th></th>\n",
       "      <th></th>\n",
       "      <th></th>\n",
       "      <th></th>\n",
       "      <th></th>\n",
       "    </tr>\n",
       "  </thead>\n",
       "  <tbody>\n",
       "    <tr>\n",
       "      <th rowspan=\"2\" valign=\"top\">0</th>\n",
       "      <th>1</th>\n",
       "      <td>0.3</td>\n",
       "      <td>1.3</td>\n",
       "      <td>&lt;gurobi.Var y[0,1]&gt;</td>\n",
       "      <td>&lt;gurobi.Var z[0,1]&gt;</td>\n",
       "      <td>&lt;gurobi.Constr c1[0,1]&gt;</td>\n",
       "    </tr>\n",
       "    <tr>\n",
       "      <th>2</th>\n",
       "      <td>1.2</td>\n",
       "      <td>1.7</td>\n",
       "      <td>&lt;gurobi.Var y[0,2]&gt;</td>\n",
       "      <td>&lt;gurobi.Var z[0,2]&gt;</td>\n",
       "      <td>&lt;gurobi.Constr c1[0,2]&gt;</td>\n",
       "    </tr>\n",
       "    <tr>\n",
       "      <th>1</th>\n",
       "      <th>0</th>\n",
       "      <td>0.7</td>\n",
       "      <td>1.4</td>\n",
       "      <td>&lt;gurobi.Var y[1,0]&gt;</td>\n",
       "      <td>&lt;gurobi.Var z[1,0]&gt;</td>\n",
       "      <td>&lt;gurobi.Constr c1[1,0]&gt;</td>\n",
       "    </tr>\n",
       "    <tr>\n",
       "      <th rowspan=\"2\" valign=\"top\">2</th>\n",
       "      <th>0</th>\n",
       "      <td>0.9</td>\n",
       "      <td>1.1</td>\n",
       "      <td>&lt;gurobi.Var y[2,0]&gt;</td>\n",
       "      <td>&lt;gurobi.Var z[2,0]&gt;</td>\n",
       "      <td>&lt;gurobi.Constr c1[2,0]&gt;</td>\n",
       "    </tr>\n",
       "    <tr>\n",
       "      <th>1</th>\n",
       "      <td>1.2</td>\n",
       "      <td>0.9</td>\n",
       "      <td>&lt;gurobi.Var y[2,1]&gt;</td>\n",
       "      <td>&lt;gurobi.Var z[2,1]&gt;</td>\n",
       "      <td>&lt;gurobi.Constr c1[2,1]&gt;</td>\n",
       "    </tr>\n",
       "  </tbody>\n",
       "</table>\n",
       "</div>"
      ],
      "text/plain": [
       "       u    c                    y                    z  \\\n",
       "i j                                                       \n",
       "0 1  0.3  1.3  <gurobi.Var y[0,1]>  <gurobi.Var z[0,1]>   \n",
       "  2  1.2  1.7  <gurobi.Var y[0,2]>  <gurobi.Var z[0,2]>   \n",
       "1 0  0.7  1.4  <gurobi.Var y[1,0]>  <gurobi.Var z[1,0]>   \n",
       "2 0  0.9  1.1  <gurobi.Var y[2,0]>  <gurobi.Var z[2,0]>   \n",
       "  1  1.2  0.9  <gurobi.Var y[2,1]>  <gurobi.Var z[2,1]>   \n",
       "\n",
       "                          c1  \n",
       "i j                           \n",
       "0 1  <gurobi.Constr c1[0,1]>  \n",
       "  2  <gurobi.Constr c1[0,2]>  \n",
       "1 0  <gurobi.Constr c1[1,0]>  \n",
       "2 0  <gurobi.Constr c1[2,0]>  \n",
       "  1  <gurobi.Constr c1[2,1]>  "
      ]
     },
     "execution_count": 22,
     "metadata": {},
     "output_type": "execute_result"
    }
   ],
   "source": [
    "variables.gppd.add_constrs(  \n",
    "    model, \"y\", GRB.LESS_EQUAL, \"z\", name=\"c1\"\n",
    ") "
   ]
  },
  {
   "cell_type": "code",
   "execution_count": 24,
   "id": "223860be",
   "metadata": {},
   "outputs": [
    {
     "data": {
      "text/plain": [
       "<gurobi.LinExpr: 1.3 x[0,1] + 1.7 x[0,2] + 1.4 x[1,0] + 1.1 x[2,0] + 0.9 x[2,1]>"
      ]
     },
     "execution_count": 24,
     "metadata": {},
     "output_type": "execute_result"
    }
   ],
   "source": [
    "(x * data[\"c\"]).sum()"
   ]
  },
  {
   "cell_type": "code",
   "execution_count": 26,
   "id": "a148cf8c",
   "metadata": {},
   "outputs": [],
   "source": [
    "model.setObjective((x * data[\"c\"]).sum(), sense=GRB.MAXIMIZE)"
   ]
  },
  {
   "cell_type": "code",
   "execution_count": 27,
   "id": "10e7b6a3",
   "metadata": {},
   "outputs": [
    {
     "name": "stdout",
     "output_type": "stream",
     "text": [
      "Gurobi Optimizer version 11.0.2 build v11.0.2rc0 (win64 - Windows 11.0 (22000.2))\n",
      "\n",
      "CPU model: Intel(R) Core(TM) i5-5300U CPU @ 2.30GHz, instruction set [SSE2|AVX|AVX2]\n",
      "Thread count: 2 physical cores, 4 logical processors, using up to 4 threads\n",
      "\n",
      "Optimize a model with 21 rows, 40 columns and 50 nonzeros\n",
      "Model fingerprint: 0x6245daae\n",
      "Coefficient statistics:\n",
      "  Matrix range     [1e+00, 1e+00]\n",
      "  Objective range  [9e-01, 2e+00]\n",
      "  Bounds range     [3e-01, 1e+00]\n",
      "  RHS range        [0e+00, 0e+00]\n",
      "Presolve removed 21 rows and 40 columns\n",
      "Presolve time: 0.04s\n",
      "Presolve: All rows and columns removed\n",
      "Iteration    Objective       Primal Inf.    Dual Inf.      Time\n",
      "       0    5.4800000e+00   0.000000e+00   0.000000e+00      0s\n",
      "\n",
      "Solved in 0 iterations and 0.06 seconds (0.00 work units)\n",
      "Optimal objective  5.480000000e+00\n"
     ]
    }
   ],
   "source": [
    "model.optimize()"
   ]
  },
  {
   "cell_type": "code",
   "execution_count": 28,
   "id": "fb45ee60",
   "metadata": {},
   "outputs": [
    {
     "data": {
      "text/plain": [
       "i  j\n",
       "0  1    0.3\n",
       "   2    1.2\n",
       "1  0    0.7\n",
       "2  0    0.9\n",
       "   1    1.2\n",
       "Name: x, dtype: float64"
      ]
     },
     "execution_count": 28,
     "metadata": {},
     "output_type": "execute_result"
    }
   ],
   "source": [
    "x.gppd.X"
   ]
  },
  {
   "cell_type": "code",
   "execution_count": 31,
   "id": "70ea334b",
   "metadata": {},
   "outputs": [],
   "source": [
    "import pandas as pd\n",
    "import gurobipy as gp\n",
    "from gurobipy import GRB\n",
    "import gurobipy_pandas as gppd\n",
    "\n"
   ]
  },
  {
   "cell_type": "code",
   "execution_count": null,
   "id": "50ecffc1",
   "metadata": {},
   "outputs": [],
   "source": [
    "import pandas as pd\n",
    "import gurobipy as gp\n",
    "from gurobipy import GRB\n",
    "import gurobipy_pandas as gppd"
   ]
  },
  {
   "cell_type": "code",
   "execution_count": 35,
   "id": "0a1786f6",
   "metadata": {},
   "outputs": [
    {
     "data": {
      "text/html": [
       "<div>\n",
       "<style scoped>\n",
       "    .dataframe tbody tr th:only-of-type {\n",
       "        vertical-align: middle;\n",
       "    }\n",
       "\n",
       "    .dataframe tbody tr th {\n",
       "        vertical-align: top;\n",
       "    }\n",
       "\n",
       "    .dataframe thead th {\n",
       "        text-align: right;\n",
       "    }\n",
       "</style>\n",
       "<table border=\"1\" class=\"dataframe\">\n",
       "  <thead>\n",
       "    <tr style=\"text-align: right;\">\n",
       "      <th></th>\n",
       "      <th>resource</th>\n",
       "      <th>difficulty</th>\n",
       "      <th>value</th>\n",
       "    </tr>\n",
       "    <tr>\n",
       "      <th>project</th>\n",
       "      <th></th>\n",
       "      <th></th>\n",
       "      <th></th>\n",
       "    </tr>\n",
       "  </thead>\n",
       "  <tbody>\n",
       "    <tr>\n",
       "      <th>0</th>\n",
       "      <td>1.1</td>\n",
       "      <td>3</td>\n",
       "      <td>0.4</td>\n",
       "    </tr>\n",
       "    <tr>\n",
       "      <th>1</th>\n",
       "      <td>1.4</td>\n",
       "      <td>3</td>\n",
       "      <td>1.3</td>\n",
       "    </tr>\n",
       "    <tr>\n",
       "      <th>2</th>\n",
       "      <td>1.2</td>\n",
       "      <td>1</td>\n",
       "      <td>1.7</td>\n",
       "    </tr>\n",
       "    <tr>\n",
       "      <th>3</th>\n",
       "      <td>1.1</td>\n",
       "      <td>3</td>\n",
       "      <td>1.3</td>\n",
       "    </tr>\n",
       "    <tr>\n",
       "      <th>4</th>\n",
       "      <td>0.9</td>\n",
       "      <td>1</td>\n",
       "      <td>1.3</td>\n",
       "    </tr>\n",
       "  </tbody>\n",
       "</table>\n",
       "</div>"
      ],
      "text/plain": [
       "         resource  difficulty  value\n",
       "project                             \n",
       "0             1.1           3    0.4\n",
       "1             1.4           3    1.3\n",
       "2             1.2           1    1.7\n",
       "3             1.1           3    1.3\n",
       "4             0.9           1    1.3"
      ]
     },
     "execution_count": 35,
     "metadata": {},
     "output_type": "execute_result"
    }
   ],
   "source": [
    "projects = pd.read_csv(\"projects.csv\", index_col=\"project\")\n",
    "projects.head()"
   ]
  },
  {
   "cell_type": "code",
   "execution_count": 36,
   "id": "dc3c48c3",
   "metadata": {},
   "outputs": [
    {
     "data": {
      "text/html": [
       "<div>\n",
       "<style scoped>\n",
       "    .dataframe tbody tr th:only-of-type {\n",
       "        vertical-align: middle;\n",
       "    }\n",
       "\n",
       "    .dataframe tbody tr th {\n",
       "        vertical-align: top;\n",
       "    }\n",
       "\n",
       "    .dataframe thead th {\n",
       "        text-align: right;\n",
       "    }\n",
       "</style>\n",
       "<table border=\"1\" class=\"dataframe\">\n",
       "  <thead>\n",
       "    <tr style=\"text-align: right;\">\n",
       "      <th></th>\n",
       "      <th>skill</th>\n",
       "      <th>capacity</th>\n",
       "    </tr>\n",
       "    <tr>\n",
       "      <th>team</th>\n",
       "      <th></th>\n",
       "      <th></th>\n",
       "    </tr>\n",
       "  </thead>\n",
       "  <tbody>\n",
       "    <tr>\n",
       "      <th>0</th>\n",
       "      <td>1</td>\n",
       "      <td>2.4</td>\n",
       "    </tr>\n",
       "    <tr>\n",
       "      <th>1</th>\n",
       "      <td>1</td>\n",
       "      <td>1.8</td>\n",
       "    </tr>\n",
       "    <tr>\n",
       "      <th>2</th>\n",
       "      <td>1</td>\n",
       "      <td>1.1</td>\n",
       "    </tr>\n",
       "    <tr>\n",
       "      <th>3</th>\n",
       "      <td>2</td>\n",
       "      <td>1.9</td>\n",
       "    </tr>\n",
       "    <tr>\n",
       "      <th>4</th>\n",
       "      <td>3</td>\n",
       "      <td>1.4</td>\n",
       "    </tr>\n",
       "  </tbody>\n",
       "</table>\n",
       "</div>"
      ],
      "text/plain": [
       "      skill  capacity\n",
       "team                 \n",
       "0         1       2.4\n",
       "1         1       1.8\n",
       "2         1       1.1\n",
       "3         2       1.9\n",
       "4         3       1.4"
      ]
     },
     "execution_count": 36,
     "metadata": {},
     "output_type": "execute_result"
    }
   ],
   "source": [
    "teams = pd.read_csv(\"teams.csv\", index_col=\"team\")\n",
    "teams.head()"
   ]
  },
  {
   "cell_type": "code",
   "execution_count": 37,
   "id": "c8136c80",
   "metadata": {},
   "outputs": [
    {
     "name": "stdout",
     "output_type": "stream",
     "text": [
      "There are 30 projects and 5 teams.\n",
      "Total project resource required: 35.2\n",
      "Total team resource available: 8.6\n"
     ]
    }
   ],
   "source": [
    "print(f\"There are {len(projects)} projects and {len(teams)} teams.\")\n",
    "print(f\"Total project resource required: {projects.resource.sum():.1f}\")\n",
    "print(f\"Total team resource available: {teams.capacity.sum():.1f}\")"
   ]
  },
  {
   "cell_type": "code",
   "execution_count": 38,
   "id": "334dd4b5",
   "metadata": {},
   "outputs": [
    {
     "data": {
      "text/plain": [
       "3    10\n",
       "1    10\n",
       "2    10\n",
       "Name: difficulty, dtype: int64"
      ]
     },
     "execution_count": 38,
     "metadata": {},
     "output_type": "execute_result"
    }
   ],
   "source": [
    "projects.difficulty.value_counts()"
   ]
  },
  {
   "cell_type": "code",
   "execution_count": 39,
   "id": "00c7aff1",
   "metadata": {},
   "outputs": [
    {
     "data": {
      "text/plain": [
       "1    3\n",
       "2    1\n",
       "3    1\n",
       "Name: skill, dtype: int64"
      ]
     },
     "execution_count": 39,
     "metadata": {},
     "output_type": "execute_result"
    }
   ],
   "source": [
    "teams.skill.value_counts()"
   ]
  },
  {
   "cell_type": "code",
   "execution_count": 40,
   "id": "a1ac03c1",
   "metadata": {},
   "outputs": [],
   "source": [
    "#When formulating the model, we could create a variable for every index pair \n",
    "#, and later disallow the invalid assignments using constraints.\n",
    "#But this would introduce redundant variables, creating a model which is larger than needed. \n",
    "#We should instead exploit the natural sparsity of the \n",
    "#problem by filtering on the data to find only the \n",
    "#variables we need, before we start to create variables."
   ]
  },
  {
   "cell_type": "code",
   "execution_count": 42,
   "id": "b182fbb7",
   "metadata": {},
   "outputs": [
    {
     "name": "stdout",
     "output_type": "stream",
     "text": [
      "Model will have 80 variables (out of a possible 150)\n"
     ]
    },
    {
     "data": {
      "text/html": [
       "<div>\n",
       "<style scoped>\n",
       "    .dataframe tbody tr th:only-of-type {\n",
       "        vertical-align: middle;\n",
       "    }\n",
       "\n",
       "    .dataframe tbody tr th {\n",
       "        vertical-align: top;\n",
       "    }\n",
       "\n",
       "    .dataframe thead th {\n",
       "        text-align: right;\n",
       "    }\n",
       "</style>\n",
       "<table border=\"1\" class=\"dataframe\">\n",
       "  <thead>\n",
       "    <tr style=\"text-align: right;\">\n",
       "      <th></th>\n",
       "      <th></th>\n",
       "      <th>resource</th>\n",
       "      <th>difficulty</th>\n",
       "      <th>value</th>\n",
       "      <th>skill</th>\n",
       "      <th>capacity</th>\n",
       "    </tr>\n",
       "    <tr>\n",
       "      <th>project</th>\n",
       "      <th>team</th>\n",
       "      <th></th>\n",
       "      <th></th>\n",
       "      <th></th>\n",
       "      <th></th>\n",
       "      <th></th>\n",
       "    </tr>\n",
       "  </thead>\n",
       "  <tbody>\n",
       "    <tr>\n",
       "      <th>0</th>\n",
       "      <th>4</th>\n",
       "      <td>1.1</td>\n",
       "      <td>3</td>\n",
       "      <td>0.4</td>\n",
       "      <td>3</td>\n",
       "      <td>1.4</td>\n",
       "    </tr>\n",
       "    <tr>\n",
       "      <th>1</th>\n",
       "      <th>4</th>\n",
       "      <td>1.4</td>\n",
       "      <td>3</td>\n",
       "      <td>1.3</td>\n",
       "      <td>3</td>\n",
       "      <td>1.4</td>\n",
       "    </tr>\n",
       "    <tr>\n",
       "      <th rowspan=\"3\" valign=\"top\">2</th>\n",
       "      <th>0</th>\n",
       "      <td>1.2</td>\n",
       "      <td>1</td>\n",
       "      <td>1.7</td>\n",
       "      <td>1</td>\n",
       "      <td>2.4</td>\n",
       "    </tr>\n",
       "    <tr>\n",
       "      <th>1</th>\n",
       "      <td>1.2</td>\n",
       "      <td>1</td>\n",
       "      <td>1.7</td>\n",
       "      <td>1</td>\n",
       "      <td>1.8</td>\n",
       "    </tr>\n",
       "    <tr>\n",
       "      <th>2</th>\n",
       "      <td>1.2</td>\n",
       "      <td>1</td>\n",
       "      <td>1.7</td>\n",
       "      <td>1</td>\n",
       "      <td>1.1</td>\n",
       "    </tr>\n",
       "    <tr>\n",
       "      <th>...</th>\n",
       "      <th>...</th>\n",
       "      <td>...</td>\n",
       "      <td>...</td>\n",
       "      <td>...</td>\n",
       "      <td>...</td>\n",
       "      <td>...</td>\n",
       "    </tr>\n",
       "    <tr>\n",
       "      <th rowspan=\"3\" valign=\"top\">28</th>\n",
       "      <th>2</th>\n",
       "      <td>1.1</td>\n",
       "      <td>1</td>\n",
       "      <td>1.0</td>\n",
       "      <td>1</td>\n",
       "      <td>1.1</td>\n",
       "    </tr>\n",
       "    <tr>\n",
       "      <th>3</th>\n",
       "      <td>1.1</td>\n",
       "      <td>1</td>\n",
       "      <td>1.0</td>\n",
       "      <td>2</td>\n",
       "      <td>1.9</td>\n",
       "    </tr>\n",
       "    <tr>\n",
       "      <th>4</th>\n",
       "      <td>1.1</td>\n",
       "      <td>1</td>\n",
       "      <td>1.0</td>\n",
       "      <td>3</td>\n",
       "      <td>1.4</td>\n",
       "    </tr>\n",
       "    <tr>\n",
       "      <th rowspan=\"2\" valign=\"top\">29</th>\n",
       "      <th>3</th>\n",
       "      <td>0.9</td>\n",
       "      <td>2</td>\n",
       "      <td>1.3</td>\n",
       "      <td>2</td>\n",
       "      <td>1.9</td>\n",
       "    </tr>\n",
       "    <tr>\n",
       "      <th>4</th>\n",
       "      <td>0.9</td>\n",
       "      <td>2</td>\n",
       "      <td>1.3</td>\n",
       "      <td>3</td>\n",
       "      <td>1.4</td>\n",
       "    </tr>\n",
       "  </tbody>\n",
       "</table>\n",
       "<p>80 rows × 5 columns</p>\n",
       "</div>"
      ],
      "text/plain": [
       "              resource  difficulty  value  skill  capacity\n",
       "project team                                              \n",
       "0       4          1.1           3    0.4      3       1.4\n",
       "1       4          1.4           3    1.3      3       1.4\n",
       "2       0          1.2           1    1.7      1       2.4\n",
       "        1          1.2           1    1.7      1       1.8\n",
       "        2          1.2           1    1.7      1       1.1\n",
       "...                ...         ...    ...    ...       ...\n",
       "28      2          1.1           1    1.0      1       1.1\n",
       "        3          1.1           1    1.0      2       1.9\n",
       "        4          1.1           1    1.0      3       1.4\n",
       "29      3          0.9           2    1.3      2       1.9\n",
       "        4          0.9           2    1.3      3       1.4\n",
       "\n",
       "[80 rows x 5 columns]"
      ]
     },
     "execution_count": 42,
     "metadata": {},
     "output_type": "execute_result"
    }
   ],
   "source": [
    "# Pandas does not have a conditional join, but we can use a\n",
    "# cross join + query to create the list of allowed pairs.\n",
    "# For larger datasets, this data filtering might be better\n",
    "# done before loading into python/pandas (e.g. in SQL, which\n",
    "# will handle this more efficiently).\n",
    "\n",
    "allowed_pairs = (\n",
    "    pd.merge(\n",
    "        projects.reset_index(),\n",
    "        teams.reset_index(),\n",
    "        how='cross',\n",
    "    )\n",
    "    .query(\"difficulty <= skill\")\n",
    "    .set_index([\"project\", \"team\"])\n",
    ")\n",
    "\n",
    "print(\n",
    "    f\"Model will have {len(allowed_pairs)} variables\"\n",
    "    f\" (out of a possible {len(projects) * len(teams)})\"\n",
    ")\n",
    "\n",
    "allowed_pairs"
   ]
  },
  {
   "cell_type": "code",
   "execution_count": 43,
   "id": "cca00047",
   "metadata": {},
   "outputs": [
    {
     "data": {
      "text/plain": [
       "project  team\n",
       "0        4        <gurobi.Var x[0,4]>\n",
       "1        4        <gurobi.Var x[1,4]>\n",
       "2        0        <gurobi.Var x[2,0]>\n",
       "         1        <gurobi.Var x[2,1]>\n",
       "         2        <gurobi.Var x[2,2]>\n",
       "                         ...         \n",
       "28       2       <gurobi.Var x[28,2]>\n",
       "         3       <gurobi.Var x[28,3]>\n",
       "         4       <gurobi.Var x[28,4]>\n",
       "29       3       <gurobi.Var x[29,3]>\n",
       "         4       <gurobi.Var x[29,4]>\n",
       "Name: x, Length: 80, dtype: object"
      ]
     },
     "execution_count": 43,
     "metadata": {},
     "output_type": "execute_result"
    }
   ],
   "source": [
    "#The new dataframe we have constructed has a sparse index, which represents the small set \n",
    "#of allowed pairs (roughly half the set of total possible pairs). \n",
    "#This approach reduces the model size, and correspondingly the time taken to formulate it.\n",
    "model = gp.Model()\n",
    "model.ModelSense = GRB.MAXIMIZE\n",
    "x = gppd.add_vars(model, allowed_pairs, vtype=GRB.BINARY, obj=\"value\", name=\"x\")\n",
    "x"
   ]
  },
  {
   "cell_type": "code",
   "execution_count": 44,
   "id": "6bb6d4ab",
   "metadata": {},
   "outputs": [
    {
     "data": {
      "text/plain": [
       "team\n",
       "0    1.2 x[2,0] + 0.9 x[4,0] + 1.3 x[5,0] + x[6,0] ...\n",
       "1    1.2 x[2,1] + 0.9 x[4,1] + 1.3 x[5,1] + x[6,1] ...\n",
       "2    1.2 x[2,2] + 0.9 x[4,2] + 1.3 x[5,2] + x[6,2] ...\n",
       "3    1.2 x[2,3] + 0.9 x[4,3] + 1.3 x[5,3] + x[6,3] ...\n",
       "4    1.1 x[0,4] + 1.4 x[1,4] + 1.2 x[2,4] + 1.1 x[3...\n",
       "dtype: object"
      ]
     },
     "execution_count": 44,
     "metadata": {},
     "output_type": "execute_result"
    }
   ],
   "source": [
    "total_resource = (\n",
    "    (projects[\"resource\"] * x)\n",
    "    .groupby(\"team\").sum()\n",
    ")\n",
    "total_resource"
   ]
  },
  {
   "cell_type": "code",
   "execution_count": 45,
   "id": "c35238a5",
   "metadata": {},
   "outputs": [
    {
     "data": {
      "text/plain": [
       "team\n",
       "0    <gurobi.Constr capacity[0]>\n",
       "1    <gurobi.Constr capacity[1]>\n",
       "2    <gurobi.Constr capacity[2]>\n",
       "3    <gurobi.Constr capacity[3]>\n",
       "4    <gurobi.Constr capacity[4]>\n",
       "Name: capacity, dtype: object"
      ]
     },
     "execution_count": 45,
     "metadata": {},
     "output_type": "execute_result"
    }
   ],
   "source": [
    "capacity_constraints = gppd.add_constrs(\n",
    "    model, total_resource, GRB.LESS_EQUAL, teams[\"capacity\"],\n",
    "    name='capacity',\n",
    ")\n",
    "capacity_constraints.head()"
   ]
  },
  {
   "cell_type": "code",
   "execution_count": 46,
   "id": "529f0077",
   "metadata": {},
   "outputs": [
    {
     "data": {
      "text/plain": [
       "project\n",
       "0    <gurobi.Constr allocate_once[0]>\n",
       "1    <gurobi.Constr allocate_once[1]>\n",
       "2    <gurobi.Constr allocate_once[2]>\n",
       "3    <gurobi.Constr allocate_once[3]>\n",
       "4    <gurobi.Constr allocate_once[4]>\n",
       "Name: allocate_once, dtype: object"
      ]
     },
     "execution_count": 46,
     "metadata": {},
     "output_type": "execute_result"
    }
   ],
   "source": [
    "allocate_once = gppd.add_constrs(\n",
    "    model, x.groupby('project').sum(),\n",
    "    GRB.LESS_EQUAL, 1.0, name=\"allocate_once\",\n",
    ")\n",
    "allocate_once.head()"
   ]
  },
  {
   "cell_type": "code",
   "execution_count": 47,
   "id": "6a5aa226",
   "metadata": {},
   "outputs": [
    {
     "name": "stdout",
     "output_type": "stream",
     "text": [
      "Gurobi Optimizer version 11.0.2 build v11.0.2rc0 (win64 - Windows 11.0 (22000.2))\n",
      "\n",
      "CPU model: Intel(R) Core(TM) i5-5300U CPU @ 2.30GHz, instruction set [SSE2|AVX|AVX2]\n",
      "Thread count: 2 physical cores, 4 logical processors, using up to 4 threads\n",
      "\n",
      "Optimize a model with 35 rows, 80 columns and 160 nonzeros\n",
      "Model fingerprint: 0x39911703\n",
      "Variable types: 0 continuous, 80 integer (80 binary)\n",
      "Coefficient statistics:\n",
      "  Matrix range     [3e-01, 2e+00]\n",
      "  Objective range  [3e-01, 2e+00]\n",
      "  Bounds range     [1e+00, 1e+00]\n",
      "  RHS range        [1e+00, 2e+00]\n",
      "Found heuristic solution: objective 7.6000000\n",
      "Presolve removed 18 rows and 37 columns\n",
      "Presolve time: 0.06s\n",
      "Presolved: 17 rows, 43 columns, 78 nonzeros\n",
      "Found heuristic solution: objective 12.2000000\n",
      "Variable types: 0 continuous, 43 integer (43 binary)\n",
      "\n",
      "Root relaxation: objective 1.381744e+01, 12 iterations, 0.04 seconds (0.00 work units)\n",
      "\n",
      "    Nodes    |    Current Node    |     Objective Bounds      |     Work\n",
      " Expl Unexpl |  Obj  Depth IntInf | Incumbent    BestBd   Gap | It/Node Time\n",
      "\n",
      "     0     0   13.81744    0    5   12.20000   13.81744  13.3%     -    0s\n",
      "     0     0   13.55000    0    9   12.20000   13.55000  11.1%     -    0s\n",
      "H    0     0                      13.4000000   13.55000  1.12%     -    0s\n",
      "     0     0   13.55000    0    9   13.40000   13.55000  1.12%     -    0s\n",
      "\n",
      "Cutting planes:\n",
      "  Gomory: 1\n",
      "  Cover: 3\n",
      "  MIR: 2\n",
      "  StrongCG: 1\n",
      "  RLT: 1\n",
      "\n",
      "Explored 1 nodes (22 simplex iterations) in 0.75 seconds (0.00 work units)\n",
      "Thread count was 4 (of 4 available processors)\n",
      "\n",
      "Solution count 3: 13.4 12.2 7.6 \n",
      "\n",
      "Optimal solution found (tolerance 1.00e-04)\n",
      "Best objective 1.340000000000e+01, best bound 1.340000000000e+01, gap 0.0000%\n"
     ]
    }
   ],
   "source": [
    "model.optimize()"
   ]
  },
  {
   "cell_type": "code",
   "execution_count": 48,
   "id": "cf49a67b",
   "metadata": {},
   "outputs": [
    {
     "name": "stdout",
     "output_type": "stream",
     "text": [
      "Gurobi Optimizer version 11.0.2 build v11.0.2rc0 (win64 - Windows 11.0 (22000.2))\n",
      "\n",
      "CPU model: Intel(R) Core(TM) i5-5300U CPU @ 2.30GHz, instruction set [SSE2|AVX|AVX2]\n",
      "Thread count: 2 physical cores, 4 logical processors, using up to 4 threads\n",
      "\n",
      "Optimize a model with 35 rows, 80 columns and 160 nonzeros\n",
      "Model fingerprint: 0x39911703\n",
      "Variable types: 0 continuous, 80 integer (80 binary)\n",
      "Coefficient statistics:\n",
      "  Matrix range     [3e-01, 2e+00]\n",
      "  Objective range  [3e-01, 2e+00]\n",
      "  Bounds range     [1e+00, 1e+00]\n",
      "  RHS range        [1e+00, 2e+00]\n",
      "Presolved: 17 rows, 43 columns, 78 nonzeros\n",
      "\n",
      "Continuing optimization...\n",
      "\n",
      "\n",
      "Cutting planes:\n",
      "  Gomory: 1\n",
      "  Cover: 3\n",
      "  MIR: 2\n",
      "  StrongCG: 1\n",
      "  RLT: 1\n",
      "\n",
      "Explored 1 nodes (22 simplex iterations) in 0.05 seconds (0.00 work units)\n",
      "Thread count was 4 (of 4 available processors)\n",
      "\n",
      "Solution count 3: 13.4 12.2 7.6 \n",
      "\n",
      "Optimal solution found (tolerance 1.00e-04)\n",
      "Best objective 1.340000000000e+01, best bound 1.340000000000e+01, gap 0.0000%\n"
     ]
    }
   ],
   "source": [
    "#Extracting Solutions\n",
    "model.optimize()"
   ]
  },
  {
   "cell_type": "code",
   "execution_count": 49,
   "id": "23901984",
   "metadata": {},
   "outputs": [
    {
     "data": {
      "text/plain": [
       "project  team\n",
       "0        4       0.0\n",
       "1        4       0.0\n",
       "2        0       1.0\n",
       "         1      -0.0\n",
       "         2       0.0\n",
       "                ... \n",
       "28       2      -0.0\n",
       "         3       0.0\n",
       "         4       0.0\n",
       "29       3       1.0\n",
       "         4      -0.0\n",
       "Name: x, Length: 80, dtype: float64"
      ]
     },
     "execution_count": 49,
     "metadata": {},
     "output_type": "execute_result"
    }
   ],
   "source": [
    "x.gppd.X"
   ]
  },
  {
   "cell_type": "code",
   "execution_count": 50,
   "id": "e28f3467",
   "metadata": {},
   "outputs": [
    {
     "name": "stdout",
     "output_type": "stream",
     "text": [
      "The history saving thread hit an unexpected error (OperationalError('database or disk is full')).History will not be written to the database."
     ]
    },
    {
     "data": {
      "text/html": [
       "<div>\n",
       "<style scoped>\n",
       "    .dataframe tbody tr th:only-of-type {\n",
       "        vertical-align: middle;\n",
       "    }\n",
       "\n",
       "    .dataframe tbody tr th {\n",
       "        vertical-align: top;\n",
       "    }\n",
       "\n",
       "    .dataframe thead th {\n",
       "        text-align: right;\n",
       "    }\n",
       "</style>\n",
       "<table border=\"1\" class=\"dataframe\">\n",
       "  <thead>\n",
       "    <tr style=\"text-align: right;\">\n",
       "      <th></th>\n",
       "      <th>project</th>\n",
       "    </tr>\n",
       "    <tr>\n",
       "      <th>team</th>\n",
       "      <th></th>\n",
       "    </tr>\n",
       "  </thead>\n",
       "  <tbody>\n",
       "    <tr>\n",
       "      <th>0</th>\n",
       "      <td>[2, 11]</td>\n",
       "    </tr>\n",
       "    <tr>\n",
       "      <th>1</th>\n",
       "      <td>[5]</td>\n",
       "    </tr>\n",
       "    <tr>\n",
       "      <th>2</th>\n",
       "      <td>[6]</td>\n",
       "    </tr>\n",
       "    <tr>\n",
       "      <th>3</th>\n",
       "      <td>[4, 29]</td>\n",
       "    </tr>\n",
       "    <tr>\n",
       "      <th>4</th>\n",
       "      <td>[14, 15, 26]</td>\n",
       "    </tr>\n",
       "  </tbody>\n",
       "</table>\n",
       "</div>"
      ],
      "text/plain": [
       "           project\n",
       "team              \n",
       "0          [2, 11]\n",
       "1              [5]\n",
       "2              [6]\n",
       "3          [4, 29]\n",
       "4     [14, 15, 26]"
      ]
     },
     "execution_count": 50,
     "metadata": {},
     "output_type": "execute_result"
    },
    {
     "name": "stdout",
     "output_type": "stream",
     "text": [
      "\n"
     ]
    }
   ],
   "source": [
    "(\n",
    "    x.gppd.X.to_frame()\n",
    "    .query(\"x >= 0.9\").reset_index()\n",
    "    .groupby(\"team\").agg({\"project\": list})\n",
    ")"
   ]
  },
  {
   "cell_type": "code",
   "execution_count": 51,
   "id": "161487d8",
   "metadata": {},
   "outputs": [
    {
     "data": {
      "text/plain": [
       "team\n",
       "0    0.1\n",
       "1    0.5\n",
       "2    0.1\n",
       "3    0.1\n",
       "4    0.1\n",
       "Name: capacity, dtype: float64"
      ]
     },
     "execution_count": 51,
     "metadata": {},
     "output_type": "execute_result"
    }
   ],
   "source": [
    "capacity_constraints.gppd.Slack"
   ]
  },
  {
   "cell_type": "code",
   "execution_count": 1,
   "id": "d5b17e17",
   "metadata": {},
   "outputs": [],
   "source": [
    "#L1 Norm Regression\n",
    "import gurobipy as gp\n",
    "from gurobipy import GRB\n",
    "import gurobipy_pandas as gppd\n",
    "import pandas as pd\n",
    "\n",
    "from sklearn import datasets\n",
    "from sklearn.preprocessing import StandardScaler\n",
    "from sklearn.model_selection import train_test_split"
   ]
  },
  {
   "cell_type": "code",
   "execution_count": 2,
   "id": "7360debf",
   "metadata": {},
   "outputs": [
    {
     "data": {
      "text/html": [
       "<div>\n",
       "<style scoped>\n",
       "    .dataframe tbody tr th:only-of-type {\n",
       "        vertical-align: middle;\n",
       "    }\n",
       "\n",
       "    .dataframe tbody tr th {\n",
       "        vertical-align: top;\n",
       "    }\n",
       "\n",
       "    .dataframe thead th {\n",
       "        text-align: right;\n",
       "    }\n",
       "</style>\n",
       "<table border=\"1\" class=\"dataframe\">\n",
       "  <thead>\n",
       "    <tr style=\"text-align: right;\">\n",
       "      <th></th>\n",
       "      <th>age</th>\n",
       "      <th>sex</th>\n",
       "      <th>bmi</th>\n",
       "      <th>bp</th>\n",
       "      <th>s1</th>\n",
       "      <th>s2</th>\n",
       "      <th>s3</th>\n",
       "      <th>s4</th>\n",
       "      <th>s5</th>\n",
       "      <th>s6</th>\n",
       "      <th>const</th>\n",
       "    </tr>\n",
       "  </thead>\n",
       "  <tbody>\n",
       "    <tr>\n",
       "      <th>16</th>\n",
       "      <td>-0.115937</td>\n",
       "      <td>-0.938537</td>\n",
       "      <td>0.889214</td>\n",
       "      <td>1.038895</td>\n",
       "      <td>0.516642</td>\n",
       "      <td>-0.501640</td>\n",
       "      <td>1.564414</td>\n",
       "      <td>-0.830301</td>\n",
       "      <td>1.099061</td>\n",
       "      <td>0.586922</td>\n",
       "      <td>1.0</td>\n",
       "    </tr>\n",
       "    <tr>\n",
       "      <th>408</th>\n",
       "      <td>1.335088</td>\n",
       "      <td>-0.938537</td>\n",
       "      <td>-1.059520</td>\n",
       "      <td>2.269385</td>\n",
       "      <td>0.661281</td>\n",
       "      <td>0.406893</td>\n",
       "      <td>-0.370637</td>\n",
       "      <td>0.496320</td>\n",
       "      <td>1.220180</td>\n",
       "      <td>0.848171</td>\n",
       "      <td>1.0</td>\n",
       "    </tr>\n",
       "    <tr>\n",
       "      <th>432</th>\n",
       "      <td>0.189542</td>\n",
       "      <td>-0.938537</td>\n",
       "      <td>1.161130</td>\n",
       "      <td>-0.119214</td>\n",
       "      <td>1.210908</td>\n",
       "      <td>0.940162</td>\n",
       "      <td>-0.061029</td>\n",
       "      <td>0.488562</td>\n",
       "      <td>1.170736</td>\n",
       "      <td>2.241496</td>\n",
       "      <td>1.0</td>\n",
       "    </tr>\n",
       "    <tr>\n",
       "      <th>316</th>\n",
       "      <td>0.342282</td>\n",
       "      <td>1.065488</td>\n",
       "      <td>0.300062</td>\n",
       "      <td>0.025550</td>\n",
       "      <td>0.024870</td>\n",
       "      <td>-0.448971</td>\n",
       "      <td>-0.680245</td>\n",
       "      <td>0.721302</td>\n",
       "      <td>1.576064</td>\n",
       "      <td>0.848171</td>\n",
       "      <td>1.0</td>\n",
       "    </tr>\n",
       "    <tr>\n",
       "      <th>3</th>\n",
       "      <td>-1.872441</td>\n",
       "      <td>-0.938537</td>\n",
       "      <td>-0.243771</td>\n",
       "      <td>-0.770650</td>\n",
       "      <td>0.256292</td>\n",
       "      <td>0.525397</td>\n",
       "      <td>-0.757647</td>\n",
       "      <td>0.721302</td>\n",
       "      <td>0.476983</td>\n",
       "      <td>-0.196823</td>\n",
       "      <td>1.0</td>\n",
       "    </tr>\n",
       "    <tr>\n",
       "      <th>...</th>\n",
       "      <td>...</td>\n",
       "      <td>...</td>\n",
       "      <td>...</td>\n",
       "      <td>...</td>\n",
       "      <td>...</td>\n",
       "      <td>...</td>\n",
       "      <td>...</td>\n",
       "      <td>...</td>\n",
       "      <td>...</td>\n",
       "      <td>...</td>\n",
       "      <td>...</td>\n",
       "    </tr>\n",
       "    <tr>\n",
       "      <th>106</th>\n",
       "      <td>-2.025181</td>\n",
       "      <td>-0.938537</td>\n",
       "      <td>-1.603353</td>\n",
       "      <td>-0.915414</td>\n",
       "      <td>-0.958674</td>\n",
       "      <td>-0.732065</td>\n",
       "      <td>0.171178</td>\n",
       "      <td>-0.830301</td>\n",
       "      <td>-1.250310</td>\n",
       "      <td>-1.764314</td>\n",
       "      <td>1.0</td>\n",
       "    </tr>\n",
       "    <tr>\n",
       "      <th>270</th>\n",
       "      <td>0.113172</td>\n",
       "      <td>1.065488</td>\n",
       "      <td>0.639957</td>\n",
       "      <td>1.762713</td>\n",
       "      <td>-0.785107</td>\n",
       "      <td>-0.995407</td>\n",
       "      <td>0.325982</td>\n",
       "      <td>-0.830301</td>\n",
       "      <td>0.181658</td>\n",
       "      <td>0.325674</td>\n",
       "      <td>1.0</td>\n",
       "    </tr>\n",
       "    <tr>\n",
       "      <th>348</th>\n",
       "      <td>0.647761</td>\n",
       "      <td>-0.938537</td>\n",
       "      <td>-0.425049</td>\n",
       "      <td>-0.119214</td>\n",
       "      <td>-0.090841</td>\n",
       "      <td>-0.620144</td>\n",
       "      <td>1.641816</td>\n",
       "      <td>-0.830301</td>\n",
       "      <td>-0.229228</td>\n",
       "      <td>-0.022657</td>\n",
       "      <td>1.0</td>\n",
       "    </tr>\n",
       "    <tr>\n",
       "      <th>435</th>\n",
       "      <td>-0.268676</td>\n",
       "      <td>-0.938537</td>\n",
       "      <td>-0.493028</td>\n",
       "      <td>-0.843032</td>\n",
       "      <td>-0.351191</td>\n",
       "      <td>0.097465</td>\n",
       "      <td>-0.370637</td>\n",
       "      <td>-0.054499</td>\n",
       "      <td>-0.808569</td>\n",
       "      <td>-0.806403</td>\n",
       "      <td>1.0</td>\n",
       "    </tr>\n",
       "    <tr>\n",
       "      <th>102</th>\n",
       "      <td>-1.948811</td>\n",
       "      <td>-0.938537</td>\n",
       "      <td>0.594638</td>\n",
       "      <td>-0.336359</td>\n",
       "      <td>0.776992</td>\n",
       "      <td>0.525397</td>\n",
       "      <td>1.177404</td>\n",
       "      <td>-0.830301</td>\n",
       "      <td>-0.108108</td>\n",
       "      <td>-0.022657</td>\n",
       "      <td>1.0</td>\n",
       "    </tr>\n",
       "  </tbody>\n",
       "</table>\n",
       "<p>331 rows × 11 columns</p>\n",
       "</div>"
      ],
      "text/plain": [
       "          age       sex       bmi        bp        s1        s2        s3  \\\n",
       "16  -0.115937 -0.938537  0.889214  1.038895  0.516642 -0.501640  1.564414   \n",
       "408  1.335088 -0.938537 -1.059520  2.269385  0.661281  0.406893 -0.370637   \n",
       "432  0.189542 -0.938537  1.161130 -0.119214  1.210908  0.940162 -0.061029   \n",
       "316  0.342282  1.065488  0.300062  0.025550  0.024870 -0.448971 -0.680245   \n",
       "3   -1.872441 -0.938537 -0.243771 -0.770650  0.256292  0.525397 -0.757647   \n",
       "..        ...       ...       ...       ...       ...       ...       ...   \n",
       "106 -2.025181 -0.938537 -1.603353 -0.915414 -0.958674 -0.732065  0.171178   \n",
       "270  0.113172  1.065488  0.639957  1.762713 -0.785107 -0.995407  0.325982   \n",
       "348  0.647761 -0.938537 -0.425049 -0.119214 -0.090841 -0.620144  1.641816   \n",
       "435 -0.268676 -0.938537 -0.493028 -0.843032 -0.351191  0.097465 -0.370637   \n",
       "102 -1.948811 -0.938537  0.594638 -0.336359  0.776992  0.525397  1.177404   \n",
       "\n",
       "           s4        s5        s6  const  \n",
       "16  -0.830301  1.099061  0.586922    1.0  \n",
       "408  0.496320  1.220180  0.848171    1.0  \n",
       "432  0.488562  1.170736  2.241496    1.0  \n",
       "316  0.721302  1.576064  0.848171    1.0  \n",
       "3    0.721302  0.476983 -0.196823    1.0  \n",
       "..        ...       ...       ...    ...  \n",
       "106 -0.830301 -1.250310 -1.764314    1.0  \n",
       "270 -0.830301  0.181658  0.325674    1.0  \n",
       "348 -0.830301 -0.229228 -0.022657    1.0  \n",
       "435 -0.054499 -0.808569 -0.806403    1.0  \n",
       "102 -0.830301 -0.108108 -0.022657    1.0  \n",
       "\n",
       "[331 rows x 11 columns]"
      ]
     },
     "execution_count": 2,
     "metadata": {},
     "output_type": "execute_result"
    }
   ],
   "source": [
    "diabetes_X, diabetes_y = datasets.load_diabetes(return_X_y=True, as_frame=True)\n",
    "scaler = StandardScaler()\n",
    "diabetes_X_scaled = pd.DataFrame(\n",
    "    data=scaler.fit_transform(diabetes_X),\n",
    "    columns=diabetes_X.columns,\n",
    "    index=diabetes_X.index,\n",
    ")\n",
    "diabetes_X_scaled[\"const\"] = 1.0\n",
    "X_train, X_test, y_train, y_test = train_test_split(\n",
    "    diabetes_X_scaled, diabetes_y, random_state=42\n",
    ")\n",
    "X_train"
   ]
  },
  {
   "cell_type": "code",
   "execution_count": 5,
   "id": "eaeeed0a-c2c2-47d8-87bf-a431ec72a4aa",
   "metadata": {},
   "outputs": [
    {
     "name": "stdout",
     "output_type": "stream",
     "text": [
      "Restricted license - for non-production use only - expires 2026-11-23\n"
     ]
    }
   ],
   "source": [
    "model = gp.Model()"
   ]
  },
  {
   "cell_type": "code",
   "execution_count": 7,
   "id": "cb80e07c-159c-483d-a3d7-1a9c784fab7d",
   "metadata": {},
   "outputs": [
    {
     "data": {
      "text/plain": [
       "age        <gurobi.Var coeff[age]>\n",
       "sex        <gurobi.Var coeff[sex]>\n",
       "bmi        <gurobi.Var coeff[bmi]>\n",
       "bp          <gurobi.Var coeff[bp]>\n",
       "s1          <gurobi.Var coeff[s1]>\n",
       "s2          <gurobi.Var coeff[s2]>\n",
       "s3          <gurobi.Var coeff[s3]>\n",
       "s4          <gurobi.Var coeff[s4]>\n",
       "s5          <gurobi.Var coeff[s5]>\n",
       "s6          <gurobi.Var coeff[s6]>\n",
       "const    <gurobi.Var coeff[const]>\n",
       "Name: coeff, dtype: object"
      ]
     },
     "execution_count": 7,
     "metadata": {},
     "output_type": "execute_result"
    }
   ],
   "source": [
    "coeffs = gppd.add_vars(model, X_train.columns, name=\"coeff\", lb=-GRB.INFINITY)\n",
    "model.update()\n",
    "coeffs"
   ]
  },
  {
   "cell_type": "code",
   "execution_count": 9,
   "id": "09734a9e-55cc-4c23-ad3b-5a33310b2773",
   "metadata": {},
   "outputs": [
    {
     "data": {
      "text/plain": [
       "16     -0.11593687913484965 coeff[age] + -0.938536660...\n",
       "408    1.3350883235096624 coeff[age] + -0.93853666088...\n",
       "432    0.1895421108955739 coeff[age] + -0.93853666088...\n",
       "316    0.34228160591078566 coeff[age] + 1.06548847975...\n",
       "3      -1.8724410718097853 coeff[age] + -0.9385366608...\n",
       "                             ...                        \n",
       "106    -2.025180566824997 coeff[age] + -0.93853666088...\n",
       "270    0.11317236338796802 coeff[age] + 1.06548847975...\n",
       "348    0.6477605959412093 coeff[age] + -0.93853666088...\n",
       "435    -0.26867637415006146 coeff[age] + -0.938536660...\n",
       "102    -1.9488108193173912 coeff[age] + -0.9385366608...\n",
       "Length: 331, dtype: object"
      ]
     },
     "execution_count": 9,
     "metadata": {},
     "output_type": "execute_result"
    }
   ],
   "source": [
    "relation = (X_train * coeffs).sum(axis=\"columns\")\n",
    "relation"
   ]
  },
  {
   "cell_type": "code",
   "execution_count": 11,
   "id": "b5e62094-6e48-4a5a-a8aa-e86400d7d6b8",
   "metadata": {},
   "outputs": [
    {
     "data": {
      "text/html": [
       "<div>\n",
       "<style scoped>\n",
       "    .dataframe tbody tr th:only-of-type {\n",
       "        vertical-align: middle;\n",
       "    }\n",
       "\n",
       "    .dataframe tbody tr th {\n",
       "        vertical-align: top;\n",
       "    }\n",
       "\n",
       "    .dataframe thead th {\n",
       "        text-align: right;\n",
       "    }\n",
       "</style>\n",
       "<table border=\"1\" class=\"dataframe\">\n",
       "  <thead>\n",
       "    <tr style=\"text-align: right;\">\n",
       "      <th></th>\n",
       "      <th>MX</th>\n",
       "      <th>u</th>\n",
       "      <th>v</th>\n",
       "      <th>target</th>\n",
       "      <th>fit</th>\n",
       "    </tr>\n",
       "  </thead>\n",
       "  <tbody>\n",
       "    <tr>\n",
       "      <th>16</th>\n",
       "      <td>-0.11593687913484965 coeff[age] + -0.938536660...</td>\n",
       "      <td>&lt;gurobi.Var u[16]&gt;</td>\n",
       "      <td>&lt;gurobi.Var v[16]&gt;</td>\n",
       "      <td>166.0</td>\n",
       "      <td>&lt;gurobi.Constr fit[16]&gt;</td>\n",
       "    </tr>\n",
       "    <tr>\n",
       "      <th>408</th>\n",
       "      <td>1.3350883235096624 coeff[age] + -0.93853666088...</td>\n",
       "      <td>&lt;gurobi.Var u[408]&gt;</td>\n",
       "      <td>&lt;gurobi.Var v[408]&gt;</td>\n",
       "      <td>189.0</td>\n",
       "      <td>&lt;gurobi.Constr fit[408]&gt;</td>\n",
       "    </tr>\n",
       "    <tr>\n",
       "      <th>432</th>\n",
       "      <td>0.1895421108955739 coeff[age] + -0.93853666088...</td>\n",
       "      <td>&lt;gurobi.Var u[432]&gt;</td>\n",
       "      <td>&lt;gurobi.Var v[432]&gt;</td>\n",
       "      <td>173.0</td>\n",
       "      <td>&lt;gurobi.Constr fit[432]&gt;</td>\n",
       "    </tr>\n",
       "    <tr>\n",
       "      <th>316</th>\n",
       "      <td>0.34228160591078566 coeff[age] + 1.06548847975...</td>\n",
       "      <td>&lt;gurobi.Var u[316]&gt;</td>\n",
       "      <td>&lt;gurobi.Var v[316]&gt;</td>\n",
       "      <td>220.0</td>\n",
       "      <td>&lt;gurobi.Constr fit[316]&gt;</td>\n",
       "    </tr>\n",
       "    <tr>\n",
       "      <th>3</th>\n",
       "      <td>-1.8724410718097853 coeff[age] + -0.9385366608...</td>\n",
       "      <td>&lt;gurobi.Var u[3]&gt;</td>\n",
       "      <td>&lt;gurobi.Var v[3]&gt;</td>\n",
       "      <td>206.0</td>\n",
       "      <td>&lt;gurobi.Constr fit[3]&gt;</td>\n",
       "    </tr>\n",
       "    <tr>\n",
       "      <th>...</th>\n",
       "      <td>...</td>\n",
       "      <td>...</td>\n",
       "      <td>...</td>\n",
       "      <td>...</td>\n",
       "      <td>...</td>\n",
       "    </tr>\n",
       "    <tr>\n",
       "      <th>106</th>\n",
       "      <td>-2.025180566824997 coeff[age] + -0.93853666088...</td>\n",
       "      <td>&lt;gurobi.Var u[106]&gt;</td>\n",
       "      <td>&lt;gurobi.Var v[106]&gt;</td>\n",
       "      <td>134.0</td>\n",
       "      <td>&lt;gurobi.Constr fit[106]&gt;</td>\n",
       "    </tr>\n",
       "    <tr>\n",
       "      <th>270</th>\n",
       "      <td>0.11317236338796802 coeff[age] + 1.06548847975...</td>\n",
       "      <td>&lt;gurobi.Var u[270]&gt;</td>\n",
       "      <td>&lt;gurobi.Var v[270]&gt;</td>\n",
       "      <td>202.0</td>\n",
       "      <td>&lt;gurobi.Constr fit[270]&gt;</td>\n",
       "    </tr>\n",
       "    <tr>\n",
       "      <th>348</th>\n",
       "      <td>0.6477605959412093 coeff[age] + -0.93853666088...</td>\n",
       "      <td>&lt;gurobi.Var u[348]&gt;</td>\n",
       "      <td>&lt;gurobi.Var v[348]&gt;</td>\n",
       "      <td>148.0</td>\n",
       "      <td>&lt;gurobi.Constr fit[348]&gt;</td>\n",
       "    </tr>\n",
       "    <tr>\n",
       "      <th>435</th>\n",
       "      <td>-0.26867637415006146 coeff[age] + -0.938536660...</td>\n",
       "      <td>&lt;gurobi.Var u[435]&gt;</td>\n",
       "      <td>&lt;gurobi.Var v[435]&gt;</td>\n",
       "      <td>64.0</td>\n",
       "      <td>&lt;gurobi.Constr fit[435]&gt;</td>\n",
       "    </tr>\n",
       "    <tr>\n",
       "      <th>102</th>\n",
       "      <td>-1.9488108193173912 coeff[age] + -0.9385366608...</td>\n",
       "      <td>&lt;gurobi.Var u[102]&gt;</td>\n",
       "      <td>&lt;gurobi.Var v[102]&gt;</td>\n",
       "      <td>302.0</td>\n",
       "      <td>&lt;gurobi.Constr fit[102]&gt;</td>\n",
       "    </tr>\n",
       "  </tbody>\n",
       "</table>\n",
       "<p>331 rows × 5 columns</p>\n",
       "</div>"
      ],
      "text/plain": [
       "                                                    MX                    u  \\\n",
       "16   -0.11593687913484965 coeff[age] + -0.938536660...   <gurobi.Var u[16]>   \n",
       "408  1.3350883235096624 coeff[age] + -0.93853666088...  <gurobi.Var u[408]>   \n",
       "432  0.1895421108955739 coeff[age] + -0.93853666088...  <gurobi.Var u[432]>   \n",
       "316  0.34228160591078566 coeff[age] + 1.06548847975...  <gurobi.Var u[316]>   \n",
       "3    -1.8724410718097853 coeff[age] + -0.9385366608...    <gurobi.Var u[3]>   \n",
       "..                                                 ...                  ...   \n",
       "106  -2.025180566824997 coeff[age] + -0.93853666088...  <gurobi.Var u[106]>   \n",
       "270  0.11317236338796802 coeff[age] + 1.06548847975...  <gurobi.Var u[270]>   \n",
       "348  0.6477605959412093 coeff[age] + -0.93853666088...  <gurobi.Var u[348]>   \n",
       "435  -0.26867637415006146 coeff[age] + -0.938536660...  <gurobi.Var u[435]>   \n",
       "102  -1.9488108193173912 coeff[age] + -0.9385366608...  <gurobi.Var u[102]>   \n",
       "\n",
       "                       v  target                       fit  \n",
       "16    <gurobi.Var v[16]>   166.0   <gurobi.Constr fit[16]>  \n",
       "408  <gurobi.Var v[408]>   189.0  <gurobi.Constr fit[408]>  \n",
       "432  <gurobi.Var v[432]>   173.0  <gurobi.Constr fit[432]>  \n",
       "316  <gurobi.Var v[316]>   220.0  <gurobi.Constr fit[316]>  \n",
       "3      <gurobi.Var v[3]>   206.0    <gurobi.Constr fit[3]>  \n",
       "..                   ...     ...                       ...  \n",
       "106  <gurobi.Var v[106]>   134.0  <gurobi.Constr fit[106]>  \n",
       "270  <gurobi.Var v[270]>   202.0  <gurobi.Constr fit[270]>  \n",
       "348  <gurobi.Var v[348]>   148.0  <gurobi.Constr fit[348]>  \n",
       "435  <gurobi.Var v[435]>    64.0  <gurobi.Constr fit[435]>  \n",
       "102  <gurobi.Var v[102]>   302.0  <gurobi.Constr fit[102]>  \n",
       "\n",
       "[331 rows x 5 columns]"
      ]
     },
     "execution_count": 11,
     "metadata": {},
     "output_type": "execute_result"
    }
   ],
   "source": [
    "fit = (\n",
    "    relation.to_frame(name=\"MX\")\n",
    "    .gppd.add_vars(model, name=\"u\")\n",
    "    .gppd.add_vars(model, name=\"v\")\n",
    "    .join(y_train)\n",
    "    .gppd.add_constrs(model, \"target == MX + u - v\", name=\"fit\")\n",
    ")\n",
    "model.update()\n",
    "fit"
   ]
  },
  {
   "cell_type": "code",
   "execution_count": 13,
   "id": "4c2843b1-07e0-4451-9b3e-f7d5023214dd",
   "metadata": {},
   "outputs": [],
   "source": [
    "abs_error = fit[\"u\"] + fit[\"v\"]\n",
    "mean_abs_error = abs_error.sum() / fit.shape[0]\n",
    "model.setObjective(mean_abs_error, sense=GRB.MINIMIZE)"
   ]
  },
  {
   "cell_type": "code",
   "execution_count": 15,
   "id": "1f42f258-4006-4204-b66e-437920a3c444",
   "metadata": {},
   "outputs": [
    {
     "name": "stdout",
     "output_type": "stream",
     "text": [
      "Gurobi Optimizer version 12.0.0 build v12.0.0rc1 (win64 - Windows 11.0 (22000.2))\n",
      "\n",
      "CPU model: Intel(R) Core(TM) i5-5300U CPU @ 2.30GHz, instruction set [SSE2|AVX|AVX2]\n",
      "Thread count: 2 physical cores, 4 logical processors, using up to 4 threads\n",
      "\n",
      "Optimize a model with 331 rows, 673 columns and 4303 nonzeros\n",
      "Model fingerprint: 0x2dc542aa\n",
      "Coefficient statistics:\n",
      "  Matrix range     [1e-03, 4e+00]\n",
      "  Objective range  [3e-03, 3e-03]\n",
      "  Bounds range     [0e+00, 0e+00]\n",
      "  RHS range        [3e+01, 3e+02]\n",
      "Presolve time: 0.04s\n",
      "Presolved: 331 rows, 673 columns, 4303 nonzeros\n",
      "\n",
      "Iteration    Objective       Primal Inf.    Dual Inf.      Time\n",
      "       0      handle free variables                          0s\n",
      "     364    4.3725902e+01   0.000000e+00   0.000000e+00      0s\n",
      "\n",
      "Solved in 364 iterations and 0.07 seconds (0.02 work units)\n",
      "Optimal objective  4.372590220e+01\n"
     ]
    }
   ],
   "source": [
    "model.optimize()"
   ]
  },
  {
   "cell_type": "code",
   "execution_count": 17,
   "id": "08a8d8fa-05bc-401b-9de5-1d00689bce47",
   "metadata": {},
   "outputs": [
    {
     "data": {
      "text/plain": [
       "<Axes: >"
      ]
     },
     "execution_count": 17,
     "metadata": {},
     "output_type": "execute_result"
    },
    {
     "data": {
      "image/png": "[encoded data removed]",
      "text/plain": [
       "<Figure size 640x480 with 1 Axes>"
      ]
     },
     "metadata": {},
     "output_type": "display_data"
    }
   ],
   "source": [
    "coeffs.gppd.X.plot.bar()"
   ]
  },
  {
   "cell_type": "code",
   "execution_count": 19,
   "id": "67e97ebc-1e6b-4c2e-8b15-1c2a2076f617",
   "metadata": {},
   "outputs": [
    {
     "data": {
      "text/plain": [
       "16       u[16] + v[16]\n",
       "408    u[408] + v[408]\n",
       "432    u[432] + v[432]\n",
       "316    u[316] + v[316]\n",
       "3          u[3] + v[3]\n",
       "dtype: object"
      ]
     },
     "execution_count": 19,
     "metadata": {},
     "output_type": "execute_result"
    }
   ],
   "source": [
    "# abs_error is a Series of linear expressions\n",
    "abs_error.head()"
   ]
  },
  {
   "cell_type": "code",
   "execution_count": 21,
   "id": "e92734a2-760f-4745-9f00-7ed814ba81a0",
   "metadata": {},
   "outputs": [
    {
     "data": {
      "image/png": "[encoded data removed]",
      "text/plain": [
       "<Figure size 640x480 with 1 Axes>"
      ]
     },
     "metadata": {},
     "output_type": "display_data"
    }
   ],
   "source": [
    "# .gppd.get_value() evaluates these expressions at the current solution\n",
    "abs_error.gppd.get_value().plot.hist();"
   ]
  },
  {
   "cell_type": "code",
   "execution_count": null,
   "id": "a7b15f46-dd0b-49c5-ba6e-ccd72472441d",
   "metadata": {},
   "outputs": [],
   "source": []
  }
 ],
 "metadata": {
  "kernelspec": {
   "display_name": "Python 3 (ipykernel)",
   "language": "python",
   "name": "python3"
  },
  "language_info": {
   "codemirror_mode": {
    "name": "ipython",
    "version": 3
   },
   "file_extension": ".py",
   "mimetype": "text/x-python",
   "name": "python",
   "nbconvert_exporter": "python",
   "pygments_lexer": "ipython3",
   "version": "3.12.3"
  }
 },
 "nbformat": 4,
 "nbformat_minor": 5
}
